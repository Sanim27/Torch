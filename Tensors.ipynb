{
  "nbformat": 4,
  "nbformat_minor": 0,
  "metadata": {
    "colab": {
      "provenance": [],
      "authorship_tag": "ABX9TyPv3cm9h/pmEIxomARl42cZ",
      "include_colab_link": true
    },
    "kernelspec": {
      "name": "python3",
      "display_name": "Python 3"
    },
    "language_info": {
      "name": "python"
    }
  },
  "cells": [
    {
      "cell_type": "markdown",
      "metadata": {
        "id": "view-in-github",
        "colab_type": "text"
      },
      "source": [
        "<a href=\"https://colab.research.google.com/github/Sanim27/Torch/blob/main/Tensors.ipynb\" target=\"_parent\"><img src=\"https://colab.research.google.com/assets/colab-badge.svg\" alt=\"Open In Colab\"/></a>"
      ]
    },
    {
      "cell_type": "code",
      "execution_count": 1,
      "metadata": {
        "id": "SF4UkANdT6tj"
      },
      "outputs": [],
      "source": [
        "import torch"
      ]
    },
    {
      "cell_type": "code",
      "source": [
        "print(torch.rand(2,2))"
      ],
      "metadata": {
        "colab": {
          "base_uri": "https://localhost:8080/"
        },
        "id": "XwHlLcieT_pt",
        "outputId": "669f30b0-4455-43ca-ebf6-b9ae6e8c806a"
      },
      "execution_count": 3,
      "outputs": [
        {
          "output_type": "stream",
          "name": "stdout",
          "text": [
            "tensor([[0.8732, 0.7518],\n",
            "        [0.3075, 0.9302]])\n"
          ]
        }
      ]
    },
    {
      "cell_type": "code",
      "source": [
        "x=torch.tensor([[1,2,3],[4,5,6],[7,8,9]])\n",
        "print(x)"
      ],
      "metadata": {
        "colab": {
          "base_uri": "https://localhost:8080/"
        },
        "id": "6XDCx_p8UBkB",
        "outputId": "ff7287bf-6c27-4b5d-8f4e-fe249b1978bf"
      },
      "execution_count": 4,
      "outputs": [
        {
          "output_type": "stream",
          "name": "stdout",
          "text": [
            "tensor([[1, 2, 3],\n",
            "        [4, 5, 6],\n",
            "        [7, 8, 9]])\n"
          ]
        }
      ]
    },
    {
      "cell_type": "code",
      "source": [
        "x[0][0]=100\n",
        "print(x)"
      ],
      "metadata": {
        "colab": {
          "base_uri": "https://localhost:8080/"
        },
        "id": "HHs1lvvuUGiB",
        "outputId": "958a9a1a-8749-49d5-89ab-d1773363e1ca"
      },
      "execution_count": 5,
      "outputs": [
        {
          "output_type": "stream",
          "name": "stdout",
          "text": [
            "tensor([[100,   2,   3],\n",
            "        [  4,   5,   6],\n",
            "        [  7,   8,   9]])\n"
          ]
        }
      ]
    },
    {
      "cell_type": "code",
      "source": [
        "y=torch.zeros(2,2)"
      ],
      "metadata": {
        "id": "GzbOTmnhURyy"
      },
      "execution_count": 6,
      "outputs": []
    },
    {
      "cell_type": "code",
      "source": [
        "print(y)"
      ],
      "metadata": {
        "colab": {
          "base_uri": "https://localhost:8080/"
        },
        "id": "de1XZWwLUc_N",
        "outputId": "0cb66680-1ce7-432c-e093-980dd5cecc45"
      },
      "execution_count": 7,
      "outputs": [
        {
          "output_type": "stream",
          "name": "stdout",
          "text": [
            "tensor([[0., 0.],\n",
            "        [0., 0.]])\n"
          ]
        }
      ]
    },
    {
      "cell_type": "code",
      "source": [
        "z=torch.ones(1,2)+torch.ones(1,2)"
      ],
      "metadata": {
        "id": "l0cgT_qCUe_N"
      },
      "execution_count": 8,
      "outputs": []
    },
    {
      "cell_type": "code",
      "source": [
        "z"
      ],
      "metadata": {
        "colab": {
          "base_uri": "https://localhost:8080/"
        },
        "id": "vL614Wg-UiOx",
        "outputId": "93e277ff-64fd-4887-dda5-dc9700fbb901"
      },
      "execution_count": 9,
      "outputs": [
        {
          "output_type": "execute_result",
          "data": {
            "text/plain": [
              "tensor([[2., 2.]])"
            ]
          },
          "metadata": {},
          "execution_count": 9
        }
      ]
    },
    {
      "cell_type": "markdown",
      "source": [
        "######For rank 1 matrix we can use item() to get the data item"
      ],
      "metadata": {
        "id": "AZO_uaa-U-3h"
      }
    },
    {
      "cell_type": "code",
      "source": [
        "print(torch.rand(1).item())"
      ],
      "metadata": {
        "colab": {
          "base_uri": "https://localhost:8080/"
        },
        "id": "5UnzlE2gUjLv",
        "outputId": "0c77ada4-f970-4f86-a00e-4c5a78379511"
      },
      "execution_count": 10,
      "outputs": [
        {
          "output_type": "stream",
          "name": "stdout",
          "text": [
            "0.5598490238189697\n"
          ]
        }
      ]
    },
    {
      "cell_type": "code",
      "source": [
        "cpu_tensor=torch.rand(2)"
      ],
      "metadata": {
        "id": "EoY6AfKEUy_i"
      },
      "execution_count": 11,
      "outputs": []
    },
    {
      "cell_type": "code",
      "source": [
        "cpu_tensor.device"
      ],
      "metadata": {
        "colab": {
          "base_uri": "https://localhost:8080/"
        },
        "id": "5vzsc97_VQ9J",
        "outputId": "51f52910-81d8-42fa-e619-b38ff5e38bbb"
      },
      "execution_count": 13,
      "outputs": [
        {
          "output_type": "execute_result",
          "data": {
            "text/plain": [
              "device(type='cpu')"
            ]
          },
          "metadata": {},
          "execution_count": 13
        }
      ]
    },
    {
      "cell_type": "code",
      "source": [
        "gpu_tensor=cpu_tensor.to('cuda')\n",
        "gpu_tensor.device"
      ],
      "metadata": {
        "colab": {
          "base_uri": "https://localhost:8080/"
        },
        "id": "iqnHc6Y3VWj0",
        "outputId": "5c995a96-60d2-4708-fc4a-c80e53ccdc6e"
      },
      "execution_count": 14,
      "outputs": [
        {
          "output_type": "execute_result",
          "data": {
            "text/plain": [
              "device(type='cuda', index=0)"
            ]
          },
          "metadata": {},
          "execution_count": 14
        }
      ]
    },
    {
      "cell_type": "markdown",
      "source": [
        "We can use max() function to get the maximum in tensor and like before use item() function for rank 1 matrix thus obtained."
      ],
      "metadata": {
        "id": "s1a54r86V-XQ"
      }
    },
    {
      "cell_type": "code",
      "source": [
        "x_max=torch.rand(2,2).max()\n",
        "x_max.item()"
      ],
      "metadata": {
        "colab": {
          "base_uri": "https://localhost:8080/"
        },
        "id": "eHrVf-piVcA-",
        "outputId": "263dcf71-2670-436a-a4ea-c0ad0047b924"
      },
      "execution_count": 2,
      "outputs": [
        {
          "output_type": "execute_result",
          "data": {
            "text/plain": [
              "0.6568174958229065"
            ]
          },
          "metadata": {},
          "execution_count": 2
        }
      ]
    },
    {
      "cell_type": "markdown",
      "source": [
        "Changing tensor from long tensor to a float tensor"
      ],
      "metadata": {
        "id": "LGkwVShoV7OF"
      }
    },
    {
      "cell_type": "code",
      "source": [
        "long_tensor=torch.tensor([[1,2,3],[4,5,6],[7,8,9]])\n",
        "print(long_tensor.type())"
      ],
      "metadata": {
        "colab": {
          "base_uri": "https://localhost:8080/"
        },
        "id": "MsnyU6KCV0nO",
        "outputId": "b2ed3e49-07cd-4f2f-b6b2-a1a6b4b6a595"
      },
      "execution_count": 4,
      "outputs": [
        {
          "output_type": "stream",
          "name": "stdout",
          "text": [
            "torch.LongTensor\n"
          ]
        }
      ]
    },
    {
      "cell_type": "code",
      "source": [
        "float_tensor=long_tensor.to(dtype=torch.float32)\n",
        "float_tensor.type()"
      ],
      "metadata": {
        "colab": {
          "base_uri": "https://localhost:8080/",
          "height": 35
        },
        "id": "xXA0VCxMWZTV",
        "outputId": "cfb0a223-fd57-419c-a027-cff4b72fc768"
      },
      "execution_count": 6,
      "outputs": [
        {
          "output_type": "execute_result",
          "data": {
            "text/plain": [
              "'torch.FloatTensor'"
            ],
            "application/vnd.google.colaboratory.intrinsic+json": {
              "type": "string"
            }
          },
          "metadata": {},
          "execution_count": 6
        }
      ]
    },
    {
      "cell_type": "code",
      "source": [
        "float_tensor"
      ],
      "metadata": {
        "colab": {
          "base_uri": "https://localhost:8080/"
        },
        "id": "B-2BDpjjWfi-",
        "outputId": "acfc325f-a3ba-476f-baa0-d0a4a4bb73b9"
      },
      "execution_count": 7,
      "outputs": [
        {
          "output_type": "execute_result",
          "data": {
            "text/plain": [
              "tensor([[1., 2., 3.],\n",
              "        [4., 5., 6.],\n",
              "        [7., 8., 9.]])"
            ]
          },
          "metadata": {},
          "execution_count": 7
        }
      ]
    },
    {
      "cell_type": "code",
      "source": [
        "long_tensor"
      ],
      "metadata": {
        "colab": {
          "base_uri": "https://localhost:8080/"
        },
        "id": "ZpnCQqNqWrHo",
        "outputId": "9f8c2ac9-6882-4590-df6a-7b9e877c8291"
      },
      "execution_count": 8,
      "outputs": [
        {
          "output_type": "execute_result",
          "data": {
            "text/plain": [
              "tensor([[1, 2, 3],\n",
              "        [4, 5, 6],\n",
              "        [7, 8, 9]])"
            ]
          },
          "metadata": {},
          "execution_count": 8
        }
      ]
    },
    {
      "cell_type": "code",
      "source": [
        "random_tensor=torch.rand(2,2)\n",
        "print(random_tensor)\n",
        "random_log=random_tensor.log2()\n",
        "print(random_log)"
      ],
      "metadata": {
        "colab": {
          "base_uri": "https://localhost:8080/"
        },
        "id": "Hp9RE5-pWthO",
        "outputId": "65352e94-918b-4198-8222-a69b305ab24f"
      },
      "execution_count": 9,
      "outputs": [
        {
          "output_type": "stream",
          "name": "stdout",
          "text": [
            "tensor([[0.4581, 0.4939],\n",
            "        [0.9413, 0.2974]])\n",
            "tensor([[-1.1262, -1.0178],\n",
            "        [-0.0873, -1.7496]])\n"
          ]
        }
      ]
    },
    {
      "cell_type": "markdown",
      "source": [
        "Here, in the code above, when log2() is done, an intermediate temporary tensor is made to store the result"
      ],
      "metadata": {
        "id": "3CCcpTLGXJ0Z"
      }
    },
    {
      "cell_type": "code",
      "source": [
        "random_tensor=torch.rand(2,2)\n",
        "print(random_tensor)\n",
        "random_log=random_tensor.log2_()\n",
        "print(random_log)"
      ],
      "metadata": {
        "colab": {
          "base_uri": "https://localhost:8080/"
        },
        "id": "gbU4zlmMXGzv",
        "outputId": "1dc602ab-58e8-4a03-b22d-72b2f8351572"
      },
      "execution_count": 10,
      "outputs": [
        {
          "output_type": "stream",
          "name": "stdout",
          "text": [
            "tensor([[0.4647, 0.4370],\n",
            "        [0.9000, 0.4223]])\n",
            "tensor([[-1.1056, -1.1942],\n",
            "        [-0.1520, -1.2437]])\n"
          ]
        }
      ]
    },
    {
      "cell_type": "markdown",
      "source": [
        "Here, in the code above, since log2_() is used , hence there is no intermediate tensor that stores the result. This is inplace function"
      ],
      "metadata": {
        "id": "yU2ffekfXlXX"
      }
    },
    {
      "cell_type": "markdown",
      "source": [
        "MNIST handwritten dataset is of size 784, Hence it has to be converted to (1,28,28). This requires reshaping. This reshaping is done by **view()** or **reshape()**"
      ],
      "metadata": {
        "id": "_YOLiuUCXvzD"
      }
    },
    {
      "cell_type": "code",
      "source": [
        "flat_tensor=torch.rand(784)\n",
        "# print(flat_tensor)\n",
        "print(flat_tensor.shape)\n",
        "\n",
        "# using view()\n",
        "reshaped_tensor=flat_tensor.view(1,28,28)\n",
        "# print(reshaped_tensor)\n",
        "print(reshaped_tensor.shape)\n",
        "\n",
        "#using reshape()\n",
        "reshaped_tensor1=flat_tensor.reshape(1,28,28)\n",
        "# print(reshaped_tensor1)\n",
        "print(reshaped_tensor1.shape)"
      ],
      "metadata": {
        "colab": {
          "base_uri": "https://localhost:8080/"
        },
        "id": "KCrvOtwQXccZ",
        "outputId": "611c7862-fee1-41f4-c1dc-29c5729ca506"
      },
      "execution_count": 16,
      "outputs": [
        {
          "output_type": "stream",
          "name": "stdout",
          "text": [
            "torch.Size([784])\n",
            "torch.Size([1, 28, 28])\n",
            "torch.Size([1, 28, 28])\n"
          ]
        }
      ]
    },
    {
      "cell_type": "markdown",
      "source": [
        "## So what is the difference between view() and reshape() ?"
      ],
      "metadata": {
        "id": "5d2uyl-LaSUA"
      }
    },
    {
      "cell_type": "markdown",
      "source": [
        "### view(): Can throw an error if the memory isn’t contiguous. Changes to the original tensor affect the view.\n"
      ],
      "metadata": {
        "id": "Kdaqx8QsaEME"
      }
    },
    {
      "cell_type": "markdown",
      "source": [
        "###reshape(): More reliable as it handles non-contiguous memory automatically. Changes to the original tensor may or may not affect the reshaped tensor (depends if a new tensor is created)."
      ],
      "metadata": {
        "id": "0Dy15iidaKoF"
      }
    },
    {
      "cell_type": "markdown",
      "source": [
        "## Better to use reshape() for error-less working"
      ],
      "metadata": {
        "id": "QkncT8VRaal8"
      }
    },
    {
      "cell_type": "markdown",
      "source": [
        "# ----------------------------------------------------------------------------"
      ],
      "metadata": {
        "id": "IxniylS5anxc"
      }
    },
    {
      "cell_type": "markdown",
      "source": [
        "# Rearranging dimensions of tensors ..."
      ],
      "metadata": {
        "id": "dG1BxLXcawIU"
      }
    },
    {
      "cell_type": "markdown",
      "source": [
        "Most images are in the shape ( height, width, channels ) . But in pytorch we would want them as ( channels, height, width)."
      ],
      "metadata": {
        "id": "5Eo95GN3a0p6"
      }
    },
    {
      "cell_type": "markdown",
      "source": [
        "### We can use permute() for this purpose."
      ],
      "metadata": {
        "id": "0JJwD7TSbCg-"
      }
    },
    {
      "cell_type": "code",
      "source": [
        "hwc_tensors=torch.rand(640,480,3)\n",
        "chw_tensors=hwc_tensors.permute(2,0,1)\n",
        "print(hwc_tensors.shape)\n",
        "print(chw_tensors.shape)"
      ],
      "metadata": {
        "colab": {
          "base_uri": "https://localhost:8080/"
        },
        "id": "m1QIcv7YYSbu",
        "outputId": "7a175ce8-0dee-43b6-afe7-c77a92755296"
      },
      "execution_count": 17,
      "outputs": [
        {
          "output_type": "stream",
          "name": "stdout",
          "text": [
            "torch.Size([640, 480, 3])\n",
            "torch.Size([3, 640, 480])\n"
          ]
        }
      ]
    },
    {
      "cell_type": "markdown",
      "source": [
        "# Tensor broadcasting"
      ],
      "metadata": {
        "id": "ibB1jNUobis1"
      }
    },
    {
      "cell_type": "markdown",
      "source": [
        "### burrowed from numpy, tensor broadcasting helps in performing operations between a tensor and a small tensor. You can broadcast two tensors, if starting backward from their trailing dimensions:\n",
        "1. The two dimensions are equal.\n",
        "2. One of the dimensions is 1."
      ],
      "metadata": {
        "id": "MBV1eZARbj03"
      }
    },
    {
      "cell_type": "code",
      "source": [
        "# Tensor A of shape (3, 1)\n",
        "A = torch.tensor([[1], [2], [3]])\n",
        "\n",
        "# Tensor B of shape (1, 4)\n",
        "B = torch.tensor([[10, 20, 30, 40]])\n",
        "\n",
        "# Broadcasting will happen here\n",
        "C = A + B\n",
        "\n",
        "print(\"Tensor A shape:\", A.shape)\n",
        "print(\"Tensor B shape:\", B.shape)\n",
        "print(\"Result Tensor C shape:\", C.shape)\n",
        "print(\"Result Tensor C:\\n\", C)"
      ],
      "metadata": {
        "colab": {
          "base_uri": "https://localhost:8080/"
        },
        "id": "vNsAQsS4bgcq",
        "outputId": "cca6b2b8-5da8-4029-eec9-58fc9ae4efcd"
      },
      "execution_count": 19,
      "outputs": [
        {
          "output_type": "stream",
          "name": "stdout",
          "text": [
            "Tensor A shape: torch.Size([3, 1])\n",
            "Tensor B shape: torch.Size([1, 4])\n",
            "Result Tensor C shape: torch.Size([3, 4])\n",
            "Result Tensor C:\n",
            " tensor([[11, 21, 31, 41],\n",
            "        [12, 22, 32, 42],\n",
            "        [13, 23, 33, 43]])\n"
          ]
        }
      ]
    },
    {
      "cell_type": "code",
      "source": [
        "# Tensor D of shape (2, 3)\n",
        "D = torch.tensor([[1, 2, 3], [4, 5, 6]])\n",
        "\n",
        "# Tensor E of shape (4,)\n",
        "E = torch.tensor([10, 20, 30, 40])\n",
        "\n",
        "# This will throw an error due to incompatible shapes\n",
        "try:\n",
        "    F = D + E\n",
        "except RuntimeError as e:\n",
        "    print(\"Error:\", e)"
      ],
      "metadata": {
        "colab": {
          "base_uri": "https://localhost:8080/"
        },
        "id": "9z7o6BVJdGqy",
        "outputId": "fa864e9f-5bae-4aff-921b-9accbb9db580"
      },
      "execution_count": 20,
      "outputs": [
        {
          "output_type": "stream",
          "name": "stdout",
          "text": [
            "Error: The size of tensor a (3) must match the size of tensor b (4) at non-singleton dimension 1\n"
          ]
        }
      ]
    },
    {
      "cell_type": "code",
      "source": [
        "# Tensor G of shape (2, 1)\n",
        "G = torch.tensor([[1], [2]])\n",
        "\n",
        "# Tensor H of shape (2, 3)\n",
        "H = torch.tensor([[10, 20, 30], [40, 50, 60]])\n",
        "\n",
        "# Broadcasting will happen\n",
        "I = G * H\n",
        "\n",
        "print(\"Tensor G shape:\", G.shape)\n",
        "print(\"Tensor H shape:\", H.shape)\n",
        "print(\"Result Tensor I shape:\", I.shape)\n",
        "print(\"Result Tensor I:\\n\", I)\n"
      ],
      "metadata": {
        "colab": {
          "base_uri": "https://localhost:8080/"
        },
        "id": "US9xsZWXdloU",
        "outputId": "825dd3db-4ba3-4fbb-aba0-86bd6a709f39"
      },
      "execution_count": 21,
      "outputs": [
        {
          "output_type": "stream",
          "name": "stdout",
          "text": [
            "Tensor G shape: torch.Size([2, 1])\n",
            "Tensor H shape: torch.Size([2, 3])\n",
            "Result Tensor I shape: torch.Size([2, 3])\n",
            "Result Tensor I:\n",
            " tensor([[ 10,  20,  30],\n",
            "        [ 80, 100, 120]])\n"
          ]
        }
      ]
    },
    {
      "cell_type": "code",
      "source": [],
      "metadata": {
        "id": "E3M_4oKudvuF"
      },
      "execution_count": null,
      "outputs": []
    }
  ]
}